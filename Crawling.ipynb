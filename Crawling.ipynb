{
 "cells": [
  {
   "cell_type": "code",
   "execution_count": 3,
   "metadata": {},
   "outputs": [],
   "source": [
    "# 라이브러리 로드\n",
    "import requests\n",
    "from bs4 import BeautifulSoup as bs\n",
    "import pandas as pd\n",
    "from tqdm import trange"
   ]
  },
  {
   "cell_type": "code",
   "execution_count": 4,
   "metadata": {},
   "outputs": [
    {
     "data": {
      "text/plain": [
       "<Response [200]>"
      ]
     },
     "execution_count": 4,
     "metadata": {},
     "output_type": "execute_result"
    }
   ],
   "source": [
    "# 대상 사이트\n",
    "base_url = 'https://www.inflearn.com/pages/newyear-event-20200102'\n",
    "response = requests.get(base_url)\n",
    "response"
   ]
  },
  {
   "cell_type": "code",
   "execution_count": 5,
   "metadata": {},
   "outputs": [],
   "source": [
    "soup = bs(response.text, 'html.parser')"
   ]
  },
  {
   "cell_type": "code",
   "execution_count": 6,
   "metadata": {},
   "outputs": [
    {
     "data": {
      "text/plain": [
       "<div class=\"chitchat-item\">\n",
       "<figure class=\"image is-48x48\">\n",
       "<img alt=\"인프런\" class=\"user_thumb is-rounded\" src=\"https://cdn.inflearn.com/wp-content/uploads/avatars/17/b415d9fa24d186c4adf22ca9a49116b5-bpfull.png\"/>\n",
       "</figure>\n",
       "<div class=\"content\">\n",
       "<div class=\"author\">\n",
       "<span class=\"author_name\">인프런</span>\n",
       "<time class=\"created_at\" datetime=\"Sun Dec 29 2019 17:59:00 GMT+0900 (GMT+09:00)\">⋅ 약 1개월 전</time>\n",
       "<a class=\"update-chitchat edit-chitchat is-hidden\" data-id=\"18594\" type=\"button\">저장</a>\n",
       "<a class=\"hidden-editor edit-chitchat is-hidden\" type=\"button\">취소</a>\n",
       "<a class=\"edit-chitchat no_cmt_reply\" type=\"button\">답글달기</a>\n",
       "</div>\n",
       "<div class=\"body edit-chitchat\">인프런 0호 팀원이에요!\n",
       "그동안 서비스 개발 때문에 js 를 많이 했었는데 앞으론 통계나 분석을 많이 하고 싶어서 파이썬을 공부하고 싶어요! 올해 파이썬 마스터가 되는걸로..\n",
       "#관심강의: 남박사의 파이썬 활용</div>\n",
       "<textarea class=\"textarea edit-chitchat is-hidden\"></textarea>\n",
       "<div class=\"summary_comments\">\n",
       "</div>\n",
       "<div class=\"chitchats_and_editor is-hidden\">\n",
       "<div class=\"chitchat-comment-list\">\n",
       "</div>\n",
       "<div class=\"cmt-editor\">\n",
       "<div class=\"field\">\n",
       "<textarea class=\"textarea\" placeholder=\"내용을 입력해 주세요.\"></textarea>\n",
       "</div>\n",
       "<button class=\"insert-chitchat-cmt button\" data-post_id=\"18594\" type=\"button\">등록</button>\n",
       "</div>\n",
       "</div>\n",
       "</div>\n",
       "</div>"
      ]
     },
     "execution_count": 6,
     "metadata": {},
     "output_type": "execute_result"
    }
   ],
   "source": [
    "content = soup.select('#main > section > div > div > div.chitchats > div.chitchat-list > div')\n",
    "content[-1]"
   ]
  },
  {
   "cell_type": "code",
   "execution_count": 7,
   "metadata": {},
   "outputs": [
    {
     "data": {
      "text/plain": [
       "'인프런 0호 팀원이에요!\\n그동안 서비스 개발 때문에 js 를 많이 했었는데 앞으론 통계나 분석을 많이 하고 싶어서 파이썬을 공부하고 싶어요! 올해 파이썬 마스터가 되는걸로..\\n#관심강의: 남박사의 파이썬 활용'"
      ]
     },
     "execution_count": 7,
     "metadata": {},
     "output_type": "execute_result"
    }
   ],
   "source": [
    "content[-1].select(\"div.body.edit-chitchat\")[0].get_text(strip=True)"
   ]
  },
  {
   "cell_type": "code",
   "execution_count": 8,
   "metadata": {},
   "outputs": [
    {
     "data": {
      "text/plain": [
       "'인프런 0호 팀원이에요!\\n그동안 서비스 개발 때문에 js 를 많이 했었는데 앞으론 통계나 분석을 많이 하고 싶어서 파이썬을 공부하고 싶어요! 올해 파이썬 마스터가 되는걸로..\\n#관심강의: 남박사의 파이썬 활용'"
      ]
     },
     "execution_count": 8,
     "metadata": {},
     "output_type": "execute_result"
    }
   ],
   "source": [
    "chitchat = content[-1].select('div.body.edit-chitchat')[0].get_text(strip=True)\n",
    "chitchat"
   ]
  },
  {
   "cell_type": "code",
   "execution_count": 10,
   "metadata": {},
   "outputs": [
    {
     "name": "stdout",
     "output_type": "stream",
     "text": [
      "--------------------\n",
      "2020년 더욱 성장하는 올해가 되었으면 합니다 !! ㅎㅎㅎㅎ \n",
      "관심강의 : Open CV ,  DL(tensorflow, keras, etc. ), NLP\n",
      "--------------------\n",
      "올해는 작년보다 더 성장하길\n",
      "관심강의: 선형대수학개론\n",
      "--------------------\n",
      "2020년에는 대기업으로 이직하기!\n",
      "--------------------\n",
      "2020년 목표 : 리액트 공부하기\n",
      "--------------------\n",
      "윽 늦엇네욤 ㅋㅋ 2월부터 화이팅!\n"
     ]
    }
   ],
   "source": [
    "events = []\n",
    "\n",
    "for i in range(5):\n",
    "    print(\"-\"* 20)\n",
    "    chitchat = content[i].select('div.body.edit-chitchat')[0].get_text(strip=True)\n",
    "    print(chitchat)\n",
    "    events.append(chitchat)"
   ]
  },
  {
   "cell_type": "code",
   "execution_count": 11,
   "metadata": {},
   "outputs": [
    {
     "data": {
      "text/plain": [
       "['2020년 더욱 성장하는 올해가 되었으면 합니다 !! ㅎㅎㅎㅎ \\n관심강의 : Open CV ,  DL(tensorflow, keras, etc. ), NLP',\n",
       " '올해는 작년보다 더 성장하길\\n관심강의: 선형대수학개론',\n",
       " '2020년에는 대기업으로 이직하기!',\n",
       " '2020년 목표 : 리액트 공부하기',\n",
       " '윽 늦엇네욤 ㅋㅋ 2월부터 화이팅!']"
      ]
     },
     "execution_count": 11,
     "metadata": {},
     "output_type": "execute_result"
    }
   ],
   "source": [
    "events"
   ]
  },
  {
   "cell_type": "code",
   "execution_count": 12,
   "metadata": {},
   "outputs": [
    {
     "data": {
      "text/plain": [
       "2441"
      ]
     },
     "execution_count": 12,
     "metadata": {},
     "output_type": "execute_result"
    }
   ],
   "source": [
    "content_count = len(content)\n",
    "content_count"
   ]
  },
  {
   "cell_type": "code",
   "execution_count": 13,
   "metadata": {},
   "outputs": [
    {
     "name": "stderr",
     "output_type": "stream",
     "text": [
      "100%|██████████| 2441/2441 [00:00<00:00, 3253.88it/s]\n"
     ]
    }
   ],
   "source": [
    "events = []\n",
    "for i in trange(content_count):\n",
    "    chitchat = content[i].select('div.body.edit-chitchat')[0].get_text(strip=True)\n",
    "    events.append(chitchat)"
   ]
  },
  {
   "cell_type": "code",
   "execution_count": 14,
   "metadata": {},
   "outputs": [
    {
     "data": {
      "text/plain": [
       "(2441, 1)"
      ]
     },
     "execution_count": 14,
     "metadata": {},
     "output_type": "execute_result"
    }
   ],
   "source": [
    "df = pd.DataFrame({'text':events})\n",
    "df.shape"
   ]
  },
  {
   "cell_type": "code",
   "execution_count": 15,
   "metadata": {},
   "outputs": [
    {
     "data": {
      "text/html": [
       "<div>\n",
       "<style scoped>\n",
       "    .dataframe tbody tr th:only-of-type {\n",
       "        vertical-align: middle;\n",
       "    }\n",
       "\n",
       "    .dataframe tbody tr th {\n",
       "        vertical-align: top;\n",
       "    }\n",
       "\n",
       "    .dataframe thead th {\n",
       "        text-align: right;\n",
       "    }\n",
       "</style>\n",
       "<table border=\"1\" class=\"dataframe\">\n",
       "  <thead>\n",
       "    <tr style=\"text-align: right;\">\n",
       "      <th></th>\n",
       "      <th>text</th>\n",
       "    </tr>\n",
       "  </thead>\n",
       "  <tbody>\n",
       "    <tr>\n",
       "      <th>0</th>\n",
       "      <td>2020년 더욱 성장하는 올해가 되었으면 합니다 !! ㅎㅎㅎㅎ \\n관심강의 : Op...</td>\n",
       "    </tr>\n",
       "    <tr>\n",
       "      <th>1</th>\n",
       "      <td>올해는 작년보다 더 성장하길\\n관심강의: 선형대수학개론</td>\n",
       "    </tr>\n",
       "    <tr>\n",
       "      <th>2</th>\n",
       "      <td>2020년에는 대기업으로 이직하기!</td>\n",
       "    </tr>\n",
       "    <tr>\n",
       "      <th>3</th>\n",
       "      <td>2020년 목표 : 리액트 공부하기</td>\n",
       "    </tr>\n",
       "    <tr>\n",
       "      <th>4</th>\n",
       "      <td>윽 늦엇네욤 ㅋㅋ 2월부터 화이팅!</td>\n",
       "    </tr>\n",
       "  </tbody>\n",
       "</table>\n",
       "</div>"
      ],
      "text/plain": [
       "                                                text\n",
       "0  2020년 더욱 성장하는 올해가 되었으면 합니다 !! ㅎㅎㅎㅎ \\n관심강의 : Op...\n",
       "1                     올해는 작년보다 더 성장하길\\n관심강의: 선형대수학개론\n",
       "2                                2020년에는 대기업으로 이직하기!\n",
       "3                                2020년 목표 : 리액트 공부하기\n",
       "4                                윽 늦엇네욤 ㅋㅋ 2월부터 화이팅!"
      ]
     },
     "execution_count": 15,
     "metadata": {},
     "output_type": "execute_result"
    }
   ],
   "source": [
    "df.head()"
   ]
  }
 ],
 "metadata": {
  "kernelspec": {
   "display_name": "Python 3",
   "language": "python",
   "name": "python3"
  },
  "language_info": {
   "codemirror_mode": {
    "name": "ipython",
    "version": 3
   },
   "file_extension": ".py",
   "mimetype": "text/x-python",
   "name": "python",
   "nbconvert_exporter": "python",
   "pygments_lexer": "ipython3",
   "version": "3.7.2"
  }
 },
 "nbformat": 4,
 "nbformat_minor": 2
}
